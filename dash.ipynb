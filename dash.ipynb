{
 "cells": [
  {
   "cell_type": "code",
   "execution_count": 1,
   "metadata": {},
   "outputs": [],
   "source": [
    "\n",
    "# Import required libraries\n",
    "import pandas as pd\n",
    "import dash\n",
    "import dash_html_components as html\n",
    "import dash_core_components as dcc\n",
    "from dash.dependencies import Input, Output, State\n",
    "import plotly.graph_objects as go\n",
    "import plotly.express as px\n",
    "from dash import no_update\n",
    "import seaborn as sns\n",
    "import matplotlib.pyplot as plt"
   ]
  },
  {
   "cell_type": "code",
   "execution_count": null,
   "metadata": {},
   "outputs": [
    {
     "name": "stdout",
     "output_type": "stream",
     "text": [
      "Dash is running on http://127.0.0.1:8050/\n",
      "\n",
      " * Serving Flask app \"__main__\" (lazy loading)\n",
      " * Environment: production\n",
      "   WARNING: This is a development server. Do not use it in a production deployment.\n",
      "   Use a production WSGI server instead.\n",
      " * Debug mode: off\n"
     ]
    },
    {
     "name": "stderr",
     "output_type": "stream",
     "text": [
      " * Running on http://127.0.0.1:8050/ (Press CTRL+C to quit)\n",
      "127.0.0.1 - - [18/Sep/2021 19:23:10] \"\u001b[37mGET / HTTP/1.1\u001b[0m\" 200 -\n",
      "127.0.0.1 - - [18/Sep/2021 19:23:10] \"\u001b[37mGET /_dash-component-suites/dash_renderer/prop-types@15.v1_9_1m1622039810.7.2.min.js HTTP/1.1\u001b[0m\" 200 -\n",
      "127.0.0.1 - - [18/Sep/2021 19:23:10] \"\u001b[37mGET /_dash-component-suites/dash_renderer/polyfill@7.v1_9_1m1622039810.8.7.min.js HTTP/1.1\u001b[0m\" 200 -\n",
      "127.0.0.1 - - [18/Sep/2021 19:23:10] \"\u001b[37mGET /_dash-component-suites/dash_core_components/dash_core_components-shared.v1_16_0m1622039810.js HTTP/1.1\u001b[0m\" 200 -\n",
      "127.0.0.1 - - [18/Sep/2021 19:23:10] \"\u001b[37mGET /_dash-component-suites/dash_renderer/react@16.v1_9_1m1622039810.14.0.min.js HTTP/1.1\u001b[0m\" 200 -\n",
      "127.0.0.1 - - [18/Sep/2021 19:23:10] \"\u001b[37mGET /_dash-component-suites/dash_renderer/react-dom@16.v1_9_1m1622039810.14.0.min.js HTTP/1.1\u001b[0m\" 200 -\n",
      "127.0.0.1 - - [18/Sep/2021 19:23:11] \"\u001b[37mGET /_dash-component-suites/dash_html_components/dash_html_components.v1_1_3m1622039810.min.js HTTP/1.1\u001b[0m\" 200 -\n",
      "127.0.0.1 - - [18/Sep/2021 19:23:11] \"\u001b[37mGET /_dash-component-suites/dash_renderer/dash_renderer.v1_9_1m1622039810.min.js HTTP/1.1\u001b[0m\" 200 -\n",
      "127.0.0.1 - - [18/Sep/2021 19:23:11] \"\u001b[37mGET /_dash-component-suites/dash_core_components/dash_core_components.v1_16_0m1622039810.min.js HTTP/1.1\u001b[0m\" 200 -\n",
      "127.0.0.1 - - [18/Sep/2021 19:23:11] \"\u001b[37mGET /_dash-dependencies HTTP/1.1\u001b[0m\" 200 -\n",
      "127.0.0.1 - - [18/Sep/2021 19:23:11] \"\u001b[37mGET /_dash-layout HTTP/1.1\u001b[0m\" 200 -\n",
      "127.0.0.1 - - [18/Sep/2021 19:23:11] \"\u001b[37mGET /_dash-component-suites/dash_core_components/async-graph.v1_16_0m1617903285.js HTTP/1.1\u001b[0m\" 200 -\n",
      "127.0.0.1 - - [18/Sep/2021 19:23:11] \"\u001b[37mGET /_dash-component-suites/dash_core_components/async-slider.v1_16_0m1617903285.js HTTP/1.1\u001b[0m\" 200 -\n",
      "127.0.0.1 - - [18/Sep/2021 19:23:11] \"\u001b[37mGET /_favicon.ico?v=1.20.0 HTTP/1.1\u001b[0m\" 200 -\n",
      "127.0.0.1 - - [18/Sep/2021 19:23:11] \"\u001b[37mPOST /_dash-update-component HTTP/1.1\u001b[0m\" 200 -\n",
      "127.0.0.1 - - [18/Sep/2021 19:23:11] \"\u001b[37mGET /_dash-component-suites/dash_core_components/async-plotlyjs.v1_16_0m1617903285.js HTTP/1.1\u001b[0m\" 200 -\n"
     ]
    }
   ],
   "source": [
    "df=pd.read_csv(\"https://cf-courses-data.s3.us.cloud-object-storage.appdomain.cloud/IBM-DS0321EN-SkillsNetwork/datasets/dataset_part_2.csv\")\n",
    "df['success_rate'] = df['Class']/df['Class'].sum()\n",
    "app = dash.Dash(__name__)\n",
    "fig = px.pie(df, values='Class', names='LaunchSite', title='launch success count for all sites')\n",
    "fig1 = px.pie(df, values='success_rate', names='LaunchSite', title='site with highest launch success ratio')\n",
    "\n",
    "#---------------------------------------------------------------\n",
    "app.layout = html.Div([\n",
    "        html.Div([\n",
    "            html.Pre(children= \"Suicide Rates 1985-2016\",\n",
    "            style={\"text-align\": \"center\", \"font-size\":\"100%\", \"color\":\"black\"})\n",
    "        ]),\n",
    "\n",
    "       html.Div([\n",
    "            html.Div([ \n",
    "            dcc.Graph(figure=fig)]),\n",
    "            html.Div([\n",
    "            dcc.Graph(figure=fig1)])\n",
    "        ], style={'display': 'flex'}),\n",
    "\n",
    "        html.Div([\n",
    "            dcc.Graph(id='the_graph')\n",
    "        ]),\n",
    "\n",
    "        html.Div([\n",
    "            dcc.RangeSlider(id='the_year',\n",
    "                min=df['PayloadMass'].min(),\n",
    "                max=df['PayloadMass'].max(),\n",
    "                value=[df['PayloadMass'].min(),df['PayloadMass'].max()],\n",
    "                marks=df['PayloadMass'],\n",
    "                step=100)\n",
    "        ],style={\"width\": \"70%\", \"position\":\"absolute\",\n",
    "                 \"left\":\"5%\"})\n",
    "\n",
    "])\n",
    "#---------------------------------------------------------------\n",
    "\n",
    "            \n",
    "\n",
    "@app.callback(\n",
    "    Output('the_graph','figure'),\n",
    "    [Input('the_year','value')]\n",
    ")\n",
    "\n",
    "def update_graph(years_chosen):\n",
    "    # print(years_chosen)\n",
    "    dff=df[(df['PayloadMass']>=years_chosen[0])&(df['PayloadMass']<=years_chosen[1])]\n",
    "\n",
    "    scatterplot = px.scatter(\n",
    "        data_frame=dff,\n",
    "        x=\"PayloadMass\",\n",
    "        y=\"Outcome\",\n",
    "    )\n",
    "\n",
    "    scatterplot.update_traces(textposition='top center')\n",
    "\n",
    "    return (scatterplot)\n",
    "\n",
    "if __name__ == '__main__':\n",
    "    app.run_server()"
   ]
  },
  {
   "cell_type": "code",
   "execution_count": null,
   "metadata": {},
   "outputs": [],
   "source": []
  }
 ],
 "metadata": {
  "kernelspec": {
   "display_name": "Python 3",
   "language": "python",
   "name": "python3"
  },
  "language_info": {
   "codemirror_mode": {
    "name": "ipython",
    "version": 3
   },
   "file_extension": ".py",
   "mimetype": "text/x-python",
   "name": "python",
   "nbconvert_exporter": "python",
   "pygments_lexer": "ipython3",
   "version": "3.8.5"
  }
 },
 "nbformat": 4,
 "nbformat_minor": 4
}
